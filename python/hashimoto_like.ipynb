{
 "cells": [
  {
   "cell_type": "code",
   "execution_count": 61,
   "metadata": {},
   "outputs": [],
   "source": [
    "import matplotlib.pyplot as plt\n",
    "import pandas as pd\n",
    "import seaborn as sns\n",
    "import numpy as np\n",
    "from IPython.display import display"
   ]
  },
  {
   "cell_type": "code",
   "execution_count": 96,
   "metadata": {},
   "outputs": [
    {
     "data": {
      "text/html": [
       "<div>\n",
       "<style scoped>\n",
       "    .dataframe tbody tr th:only-of-type {\n",
       "        vertical-align: middle;\n",
       "    }\n",
       "\n",
       "    .dataframe tbody tr th {\n",
       "        vertical-align: top;\n",
       "    }\n",
       "\n",
       "    .dataframe thead th {\n",
       "        text-align: right;\n",
       "    }\n",
       "</style>\n",
       "<table border=\"1\" class=\"dataframe\">\n",
       "  <thead>\n",
       "    <tr style=\"text-align: right;\">\n",
       "      <th></th>\n",
       "      <th>step</th>\n",
       "      <th>src</th>\n",
       "      <th>dst</th>\n",
       "    </tr>\n",
       "  </thead>\n",
       "  <tbody>\n",
       "    <tr>\n",
       "      <th>0</th>\n",
       "      <td>1</td>\n",
       "      <td>1</td>\n",
       "      <td>3</td>\n",
       "    </tr>\n",
       "    <tr>\n",
       "      <th>1</th>\n",
       "      <td>2</td>\n",
       "      <td>1</td>\n",
       "      <td>35</td>\n",
       "    </tr>\n",
       "    <tr>\n",
       "      <th>2</th>\n",
       "      <td>3</td>\n",
       "      <td>1</td>\n",
       "      <td>9</td>\n",
       "    </tr>\n",
       "    <tr>\n",
       "      <th>3</th>\n",
       "      <td>4</td>\n",
       "      <td>9</td>\n",
       "      <td>11</td>\n",
       "    </tr>\n",
       "    <tr>\n",
       "      <th>4</th>\n",
       "      <td>5</td>\n",
       "      <td>9</td>\n",
       "      <td>12</td>\n",
       "    </tr>\n",
       "    <tr>\n",
       "      <th>...</th>\n",
       "      <td>...</td>\n",
       "      <td>...</td>\n",
       "      <td>...</td>\n",
       "    </tr>\n",
       "    <tr>\n",
       "      <th>19995</th>\n",
       "      <td>19996</td>\n",
       "      <td>980</td>\n",
       "      <td>20</td>\n",
       "    </tr>\n",
       "    <tr>\n",
       "      <th>19996</th>\n",
       "      <td>19997</td>\n",
       "      <td>5753</td>\n",
       "      <td>138444</td>\n",
       "    </tr>\n",
       "    <tr>\n",
       "      <th>19997</th>\n",
       "      <td>19998</td>\n",
       "      <td>7210</td>\n",
       "      <td>129357</td>\n",
       "    </tr>\n",
       "    <tr>\n",
       "      <th>19998</th>\n",
       "      <td>19999</td>\n",
       "      <td>4375</td>\n",
       "      <td>2717</td>\n",
       "    </tr>\n",
       "    <tr>\n",
       "      <th>19999</th>\n",
       "      <td>20000</td>\n",
       "      <td>4640</td>\n",
       "      <td>734</td>\n",
       "    </tr>\n",
       "  </tbody>\n",
       "</table>\n",
       "<p>20000 rows × 3 columns</p>\n",
       "</div>"
      ],
      "text/plain": [
       "        step   src     dst\n",
       "0          1     1       3\n",
       "1          2     1      35\n",
       "2          3     1       9\n",
       "3          4     9      11\n",
       "4          5     9      12\n",
       "...      ...   ...     ...\n",
       "19995  19996   980      20\n",
       "19996  19997  5753  138444\n",
       "19997  19998  7210  129357\n",
       "19998  19999  4375    2717\n",
       "19999  20000  4640     734\n",
       "\n",
       "[20000 rows x 3 columns]"
      ]
     },
     "metadata": {},
     "output_type": "display_data"
    }
   ],
   "source": [
    "df = pd.read_csv(\"results/generated_histories--base/rho1_nu10_gamma0_eta0--history.csv\")\n",
    "display(df)"
   ]
  },
  {
   "cell_type": "code",
   "execution_count": 97,
   "metadata": {},
   "outputs": [],
   "source": [
    "agents = pd.concat([df[\"src\"], df[\"dst\"]], ignore_index=True).unique()"
   ]
  },
  {
   "cell_type": "code",
   "execution_count": 98,
   "metadata": {},
   "outputs": [],
   "source": [
    "from typing import List, Tuple\n",
    "\n",
    "l: List[float] = []\n",
    "\n",
    "for agent in agents:\n",
    "    _df = df.copy()\n",
    "    _df[\"active\"] = (_df[\"src\"] == agent) | (_df[\"dst\"] == agent)\n",
    "    _df[\"cumsum\"] = _df[\"active\"].cumsum()\n",
    "\n",
    "    # first_step = _df.index[]\n",
    "    # assert isinstance(first_step, int)\n",
    "    # first_cumsum = _df.iloc[first_step]\n",
    "\n",
    "    # last_step = _df[\"active\"].idxmin()\n",
    "\n",
    "    first_step: np.int64 = _df[_df[\"active\"]].index[0]  # type: ignore\n",
    "    last_step: np.int64 = _df[_df[\"active\"]].index[-1]  # type: ignore\n",
    "    first_cumsum, last_cumsum = (\n",
    "        _df[\"cumsum\"].iloc[first_step],\n",
    "        _df[\"cumsum\"].iloc[last_step],\n",
    "    )\n",
    "\n",
    "    if last_step - first_step > 0:\n",
    "\n",
    "        # plt.plot(_df[\"cumsum\"])\n",
    "        # plt.plot([first_step, last_step], [first_cumsum, last_cumsum])\n",
    "        # plt.show()\n",
    "\n",
    "        expected = ((last_step - first_step) * (last_cumsum - first_cumsum)) / 2\n",
    "        actual = _df[\"cumsum\"].sum()\n",
    "\n",
    "        l.append((expected - actual) / (last_step - first_step))"
   ]
  },
  {
   "cell_type": "code",
   "execution_count": 99,
   "metadata": {},
   "outputs": [
    {
     "data": {
      "image/png": "[encoded data removed]",
      "text/plain": [
       "<Figure size 640x480 with 1 Axes>"
      ]
     },
     "metadata": {},
     "output_type": "display_data"
    }
   ],
   "source": [
    "\n",
    "plt.hist(l, bins=100)\n",
    "plt.yscale(\"log\")\n",
    "plt.show()"
   ]
  },
  {
   "cell_type": "code",
   "execution_count": null,
   "metadata": {},
   "outputs": [],
   "source": []
  }
 ],
 "metadata": {
  "kernelspec": {
   "display_name": "Python 3.10.2 ('.venv': poetry)",
   "language": "python",
   "name": "python3"
  },
  "language_info": {
   "codemirror_mode": {
    "name": "ipython",
    "version": 3
   },
   "file_extension": ".py",
   "mimetype": "text/x-python",
   "name": "python",
   "nbconvert_exporter": "python",
   "pygments_lexer": "ipython3",
   "version": "3.10.2"
  },
  "orig_nbformat": 4,
  "vscode": {
   "interpreter": {
    "hash": "8f16001db435946d349607835c9b57fc2323de25ee4c9fcad40e4ba611b9ceb3"
   }
  }
 },
 "nbformat": 4,
 "nbformat_minor": 2
}
